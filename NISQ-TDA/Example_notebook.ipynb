{
 "cells": [
  {
   "cell_type": "code",
   "execution_count": null,
   "metadata": {},
   "outputs": [],
   "source": [
    "run test_rank.py"
   ]
  },
  {
   "cell_type": "code",
   "execution_count": null,
   "metadata": {
    "scrolled": true
   },
   "outputs": [],
   "source": [
    "import test_rank"
   ]
  },
  {
   "cell_type": "code",
   "execution_count": null,
   "metadata": {},
   "outputs": [],
   "source": [
    "import importlib\n",
    "importlib.reload(test_rank)"
   ]
  },
  {
   "cell_type": "code",
   "execution_count": null,
   "metadata": {},
   "outputs": [],
   "source": [
    "for j in range(2,20,2):\n",
    "    betti_BP = betti_boundary_projection(vit_vec, project_on_simplices, boundary_sum_matrix, num_vertices,j, nv, 0.3, 2)\n",
    "    for i in range(num_vertices):\n",
    "        print(\"Betti Bound_proj\",i, \" = \", betti_BP[i] , \"with deg = \", j)"
   ]
  },
  {
   "cell_type": "code",
   "execution_count": null,
   "metadata": {},
   "outputs": [],
   "source": [
    "from scipy.sparse.linalg.eigen.arpack import eigsh as largest_eigsh\n",
    "\n",
    "points = np.random.rand(7,4)\n",
    "#points = [[0, 0, 0], [0, 1, 0], [1,0,0],[1,1,0], [0.5,0.5,1]]\n",
    "vit_comp = vitoris_rips_complex(points, 0.4)\n",
    "vit_vec = simplices_to_count_vector(vit_comp)\n",
    "num_basis = len(vit_vec)\n",
    "num_vertices = num_underlying_vertices_vector_length(num_basis)\n",
    "boundary = boundary_operator(num_vertices)\n",
    "boundary_matrix = matrix_from_pauli_operator(boundary)\n",
    "\n",
    "#print(\"Boundary sum:\")\n",
    "boundary_sum = boundary_operator_hermitian(num_vertices)\n",
    "boundary_sum_matrix = matrix_from_pauli_operator(boundary_sum)\n",
    "\n",
    "project_on_simplices = np.zeros(np.shape(boundary_matrix)+(num_vertices,))\n",
    "for i in range(num_vertices):\n",
    "    project_on_simplices[..., i] = np.array(np.diag(d_dim_simplices_mask(i,vit_vec)), dtype=float)\n",
    "\n",
    "laplacian_restricted = np.zeros(np.shape(boundary_sum_matrix)+(num_vertices,))\n",
    "dim_simplices = np.zeros(num_vertices+1)\n",
    "    \n",
    "for i in range(num_vertices):\n",
    "    dim_simplices[i] = np.sum(d_dim_simplices_mask(i,vit_vec))\n",
    "    if i>0:\n",
    "        project_up_down = project_on_simplices[...,i-1]\n",
    "    else:\n",
    "        project_up_down = np.zeros(np.shape(boundary_sum_matrix))\n",
    "\n",
    "    if i < num_vertices-1:\n",
    "        project_up_down += project_on_simplices[...,i+1]\n",
    "\n",
    "    laplacian_restricted[...,i] = \\\n",
    "        project_on_simplices[...,i] \\\n",
    "        @ boundary_sum_matrix \\\n",
    "        @ project_up_down \\\n",
    "        @ boundary_sum_matrix \\\n",
    "        @ project_on_simplices[...,i] \\\n",
    "\n",
    "betti = np.zeros(num_vertices)\n",
    "for i in range(num_vertices):\n",
    "    rows = d_dim_simplices_mask(i, vit_vec)\n",
    "    cols = rows\n",
    "    if np.any(rows) and np.any(cols):\n",
    "        tmp_mat = laplacian_restricted[..., i][rows][:,cols]\n",
    "        v, w = np.linalg.eig(tmp_mat)\n",
    "        print(tmp_mat.shape)\n",
    "        print(v)\n"
   ]
  },
  {
   "cell_type": "code",
   "execution_count": null,
   "metadata": {},
   "outputs": [],
   "source": [
    "from scipy.sparse.linalg.eigen.arpack import eigsh as largest_eigsh\n",
    "\n",
    "points = np.random.rand(8,3)\n",
    "#points = [[0, 0, 0], [0, 1, 0], [1,0,0],[1,1,0], [0.5,0.5,1]]\n",
    "vit_comp = vitoris_rips_complex(points, 0.7)\n",
    "vit_vec = simplices_to_count_vector(vit_comp)\n",
    "num_basis = len(vit_vec)\n",
    "num_vertices = num_underlying_vertices_vector_length(num_basis)\n",
    "boundary = boundary_operator(num_vertices)\n",
    "boundary_matrix = matrix_from_pauli_operator(boundary)\n",
    "\n",
    "#print(\"Boundary sum:\")\n",
    "boundary_sum = boundary_operator_hermitian(num_vertices)\n",
    "boundary_sum_matrix = matrix_from_pauli_operator(boundary_sum)\n",
    "\n",
    "project_on_simplices = np.zeros(np.shape(boundary_matrix)+(num_vertices,))\n",
    "for i in range(num_vertices):\n",
    "    project_on_simplices[..., i] = np.array(np.diag(d_dim_simplices_mask(i,vit_vec)), dtype=float)\n",
    "\n",
    "\n",
    "for i in range(num_vertices):\n",
    "    i_dim_simplices = d_dim_simplices_mask(i,vit_vec)\n",
    "    i_minus_1_dim_simplices = d_dim_simplices_mask(i-1, vit_vec)\n",
    "    tmp_mat = project_on_simplices[...,i] @ (boundary_sum_matrix @ project_on_simplices[...,i-1])\n",
    "    tmp_mat = tmp_mat[i_minus_1_dim_simplices][:,i_dim_simplices]\n",
    "    v, w = np.linalg.eig(tmp_mat.T @ tmp_mat)\n",
    "   # e, vec = largest_eigsh(tmp_mat.T @ tmp_mat, 1, which ='LM')\n",
    "    print(tmp_mat.shape)\n",
    "    print(v)"
   ]
  },
  {
   "cell_type": "code",
   "execution_count": null,
   "metadata": {},
   "outputs": [],
   "source": [
    "for j in range(2,20,2):\n",
    "    betti_lap = betti_Laplacian_restricted(vit_vec, project_on_simplices, boundary_sum_matrix, num_vertices,j, nv, 0.2, 2)\n",
    "    for i in range(num_vertices):\n",
    "        print(\"Betti Bound_proj\",i, \" = \", betti_lap[i] , \"with deg = \", j)"
   ]
  },
  {
   "cell_type": "code",
   "execution_count": null,
   "metadata": {},
   "outputs": [],
   "source": [
    "run classical_homology.py"
   ]
  },
  {
   "cell_type": "code",
   "execution_count": null,
   "metadata": {},
   "outputs": [],
   "source": [
    "points = np.random.rand(6,3)\n",
    "points"
   ]
  },
  {
   "cell_type": "code",
   "execution_count": null,
   "metadata": {},
   "outputs": [],
   "source": [
    "a = range(10)\n",
    "b = np.zeros(10)\n",
    "A = np.diag(np.concatenate([a,b]))\n",
    "rank_estimation(A, 10, 30, 0.1, 1)"
   ]
  },
  {
   "cell_type": "code",
   "execution_count": null,
   "metadata": {},
   "outputs": [],
   "source": [
    "LA.matrix_rank(A)"
   ]
  },
  {
   "cell_type": "code",
   "execution_count": null,
   "metadata": {},
   "outputs": [],
   "source": [
    "v = np.random.randn(20)\n",
    "v= v/LA.norm(v)\n",
    "mom = compute_moments(A, v, deg)\n",
    "mom"
   ]
  },
  {
   "cell_type": "code",
   "execution_count": null,
   "metadata": {},
   "outputs": [],
   "source": [
    "import matplotlib.pyplot as plt\n",
    "from rank_estimation import Chebyshev_step \n",
    "from rank_estimation import compute_Chebyshev_moments\n",
    "import numpy as np\n",
    "deg = 3\n",
    "x = np.linspace(0,1,num=100)\n",
    "y= np.zeros(len(x))\n",
    "y1= np.zeros(len(x))\n",
    "cheb_mom = np.zeros((len(x), deg+1))\n",
    "for i in range(len(x)):\n",
    "    xi = x[i]\n",
    "    mom = np.zeros(deg+1)\n",
    "    for j in range(deg+1):\n",
    "        if j == 0:\n",
    "            mom[j] = 1\n",
    "        else:\n",
    "            mom[j] = np.dot(xi, mom[j-1])\n",
    "    cheb_mom[i,:] = compute_Chebyshev_moments(mom)\n",
    "    mu = Chebyshev_step(deg, 0.1, 1)\n",
    "    y[i] = np.dot(mu,cheb_mom[i,:])\n",
    "    mu = Chebyshev_step(deg, 0.1, 2)\n",
    "    y1[i] = np.dot(mu,cheb_mom[i,:])\n",
    "    \n",
    "plt.plot(x,y)\n",
    "plt.plot(x,y1)"
   ]
  },
  {
   "cell_type": "code",
   "execution_count": null,
   "metadata": {},
   "outputs": [],
   "source": [
    "A = boundary_matrix(10) \n",
    "r = rank_estimation((A+A.transpose())/2, 4, 30, 0.01, 2)\n",
    "int(r)"
   ]
  },
  {
   "cell_type": "code",
   "execution_count": null,
   "metadata": {},
   "outputs": [],
   "source": [
    "qiskit.__version__"
   ]
  },
  {
   "cell_type": "code",
   "execution_count": null,
   "metadata": {},
   "outputs": [],
   "source": [
    "np.zeros([2,2])"
   ]
  },
  {
   "cell_type": "code",
   "execution_count": null,
   "metadata": {},
   "outputs": [],
   "source": [
    "import numpy as np\n",
    "points = [[0, 0], [1, 0.5], [0,1.5],[1,2]]\n",
    "np.mean(points,0)"
   ]
  },
  {
   "cell_type": "code",
   "execution_count": null,
   "metadata": {},
   "outputs": [],
   "source": [
    "from scipy.stats import kurtosis\n",
    "kurtosis(points,0)"
   ]
  },
  {
   "cell_type": "code",
   "execution_count": null,
   "metadata": {},
   "outputs": [],
   "source": [
    "np.var(points,0)"
   ]
  },
  {
   "cell_type": "code",
   "execution_count": null,
   "metadata": {},
   "outputs": [],
   "source": [
    "from scipy.stats import skew\n",
    "skew(points,0)"
   ]
  },
  {
   "cell_type": "code",
   "execution_count": null,
   "metadata": {},
   "outputs": [],
   "source": [
    "A = np.array([[ 0.,  1.,  1.,  0.],\n",
    "       [ 1.,  0.,  0.,  1.],\n",
    "       [ 1.,  0.,  0., -1.],\n",
    "       [ 0.,  1., -1.,  0.]])"
   ]
  },
  {
   "cell_type": "code",
   "execution_count": null,
   "metadata": {},
   "outputs": [],
   "source": [
    "from numpy import linalg as LA\n",
    "LA.matrix_rank(A)"
   ]
  },
  {
   "cell_type": "code",
   "execution_count": null,
   "metadata": {},
   "outputs": [],
   "source": [
    "B= A @ A"
   ]
  },
  {
   "cell_type": "code",
   "execution_count": null,
   "metadata": {},
   "outputs": [],
   "source": [
    "from classical_homology import one_skeleton_square, one_skeleton_unfilled_cube\n",
    "from quantum_homology import expectation_over_random_hadamard_vecs\n",
    "edges_in, num_ver= one_skeleton_unfilled_cube()\n",
    "exp_value = expectation_over_random_hadamard_vecs(num_ver, edges_in, powers=range(2), num_samples=1)\n",
    "exp_value"
   ]
  },
  {
   "cell_type": "code",
   "execution_count": null,
   "metadata": {},
   "outputs": [],
   "source": [
    "eps = 0.01\n",
    "damp = 2\n",
    "deg = 4\n",
    "pwr = range(deg)\n",
    "nv = 4\n",
    "rank = np.zeros([nv,num_ver-1])\n",
    "exp_tensor = expectation_over_random_hadamard_vecs(num_ver, edges_in, powers=pwr, num_samples=nv)\n",
    "#exp_tensor = exp_value\n",
    "for l in range(nv):\n",
    "    for k in range(num_ver-1):\n",
    "       # scal = num_ver**(k+1)\n",
    "        exp_value = np.append([1], exp_tensor[l,:,k])\n",
    "        cheb_mom = compute_Chebyshev_moments(exp_value)\n",
    "        mu = Chebyshev_step(deg, eps, damp)\n",
    "        rk = np.dot(cheb_mom, mu)\n",
    "        rank[l,k] = num_ver*rk\n",
    "        \n",
    "np.mean(rank,0)"
   ]
  },
  {
   "cell_type": "code",
   "execution_count": null,
   "metadata": {},
   "outputs": [],
   "source": [
    "for l in range(nv):\n",
    "    for k in range(num_ver-1):\n",
    "        #scal = num_ver**(k+1)\n",
    "        exp_value = np.append([1], exp_tensor[l,:,k])\n",
    "        cheb_mom = compute_Chebyshev_moments(exp_value)\n",
    "        print(exp_value)\n",
    "        mu = Chebyshev_step(deg, eps, damp)\n",
    "        rk = np.dot(cheb_mom, mu)\n",
    "        rank[l,k] = num_ver*rk\n",
    "        \n",
    "np.mean(rank,0)"
   ]
  },
  {
   "cell_type": "code",
   "execution_count": null,
   "metadata": {},
   "outputs": [],
   "source": [
    "from classical_homology import vitoris_rips_complex_from_one_skeleton, classical_laplacian_of_vit_vec, simplices_to_count_vector\n",
    "vit_comp = vitoris_rips_complex_from_one_skeleton(num_ver, edges_in)\n",
    "vit_vec = simplices_to_count_vector(vit_comp)\n",
    "laplacian_restricted = classical_laplacian_of_vit_vec(vit_vec)\n",
    "\n",
    "betti = np.zeros(num_ver)\n",
    "for i in range(num_ver):\n",
    "    rows = d_dim_simplices_mask(i, vit_vec)\n",
    "    cols = rows\n",
    "    if np.any(rows) and np.any(cols):\n",
    "        tmp_mat = laplacian_restricted[..., i][rows][:, cols]\n",
    "        betti[i] = (rank_estimation(\n",
    "                    (tmp_mat @ tmp_mat.T), deg, nv, eps, damp))\n",
    "            # np.sum(rows) equivalent to d_dim_simplices[i]\n",
    "    else:\n",
    "        betti[i] = 0\n",
    "\n",
    "betti"
   ]
  },
  {
   "cell_type": "code",
   "execution_count": null,
   "metadata": {},
   "outputs": [],
   "source": [
    "import test.test_quantum_homology_advanced\n",
    "mylaplace = test.test_quantum_homology_advanced.Expectation_of_Laplacian_TestCase()\n",
    "mylaplace.setUp()\n",
    "mylaplace.test_expectation_01()\n",
    "#mylaplace.test_run_random()"
   ]
  },
  {
   "cell_type": "code",
   "execution_count": null,
   "metadata": {},
   "outputs": [],
   "source": [
    "from classical_homology import vitoris_rips_complex_from_one_skeleton, classical_laplacian_of_vit_vec, simplices_to_count_vector\n",
    "from rank_estimation import expectation_hadamard\n",
    "vit_comp = vitoris_rips_complex_from_one_skeleton(num_ver, edges_in)\n",
    "vit_vec = simplices_to_count_vector(vit_comp)\n",
    "laplacian_restricted = classical_laplacian_of_vit_vec(vit_vec)\n",
    "\n",
    "for i in range(num_ver):\n",
    "    rows = d_dim_simplices_mask(i, vit_vec)\n",
    "    cols = rows\n",
    "    if np.any(rows) and np.any(cols):\n",
    "        tmp_mat = laplacian_restricted[..., i][rows][:, cols]\n",
    "        mom = (expectation_hadamard(\n",
    "                    (tmp_mat @ tmp_mat.T), deg, nv, eps, damp))\n",
    "        print(mom)\n",
    "    else:\n",
    "        betti[i] = 0"
   ]
  },
  {
   "cell_type": "code",
   "execution_count": null,
   "metadata": {},
   "outputs": [],
   "source": [
    "!pip3 install qiskit-honeywell-provider"
   ]
  },
  {
   "cell_type": "code",
   "execution_count": null,
   "metadata": {},
   "outputs": [],
   "source": [
    "from qiskit.providers.honeywell import Honeywell"
   ]
  },
  {
   "cell_type": "code",
   "execution_count": null,
   "metadata": {},
   "outputs": [],
   "source": [
    "Honeywell.save_account('lhoresh@us.ibm.com')"
   ]
  },
  {
   "cell_type": "code",
   "execution_count": null,
   "metadata": {},
   "outputs": [],
   "source": [
    "Honeywell.load_account()"
   ]
  },
  {
   "cell_type": "code",
   "execution_count": null,
   "metadata": {},
   "outputs": [],
   "source": [
    "backends = Honeywell.backends()\n",
    "device = 'HQS-LT-S2'\n",
    "backend = Honeywell.get_backend(device)"
   ]
  },
  {
   "cell_type": "code",
   "execution_count": null,
   "metadata": {},
   "outputs": [],
   "source": [
    "job = backend.retrieve_job('c90c48da23c448dc97f6054bd9d45cee') # Substitute your own job_id here\n",
    "result = job.result()\n",
    "counts = result.get_counts()\n",
    "import sys \n",
    "stdoutOrigin=sys.stdout \n",
    "sys.stdout = open(\"square_counts.txt\", \"w\")\n",
    "print(counts)\n",
    "sys.stdout.close()\n",
    "sys.stdout=stdoutOrigin"
   ]
  },
  {
   "cell_type": "code",
   "execution_count": null,
   "metadata": {},
   "outputs": [],
   "source": [
    "backends = Honeywell.backends()\n",
    "device = 'HQS-LT-S2-SIM'\n",
    "backend = Honeywell.get_backend(device)\n",
    "job = backend.retrieve_job('a4a1b5e611834caeb36282d41000b827') # Substitute your own job_id here\n",
    "result = job.result()\n",
    "counts = result.get_counts()\n",
    "stdoutOrigin=sys.stdout \n",
    "sys.stdout = open(\"Count_square_sim_500_shots_deg3_vec4.txt\", \"w\")\n",
    "print(counts)\n",
    "sys.stdout.close()\n",
    "sys.stdout=stdoutOrigin"
   ]
  },
  {
   "cell_type": "code",
   "execution_count": null,
   "metadata": {},
   "outputs": [],
   "source": [
    "print(result)"
   ]
  },
  {
   "cell_type": "code",
   "execution_count": null,
   "metadata": {},
   "outputs": [],
   "source": [
    "with open('Count_cube_sim_1000_shots.txt') as f:\n",
    "    data = f.read()\n",
    "    print(data)"
   ]
  },
  {
   "cell_type": "code",
   "execution_count": null,
   "metadata": {},
   "outputs": [],
   "source": [
    "from qiskit.visualization import plot_histogram"
   ]
  },
  {
   "cell_type": "code",
   "execution_count": null,
   "metadata": {},
   "outputs": [],
   "source": [
    "!pip3 install qiskit-terra"
   ]
  },
  {
   "cell_type": "code",
   "execution_count": null,
   "metadata": {},
   "outputs": [],
   "source": [
    "from quantum_rank_estimation import quantum_rank_estimation, quantum_Betti_estimation\n",
    "from classical_homology import one_skeleton_square, one_skeleton_unfilled_cube\n",
    "eps = 0.01\n",
    "damp = 2\n",
    "deg = 5\n",
    "nv = 1\n",
    "pwr = range(deg)\n",
    "edges_in, num_ver= one_skeleton_square()\n",
    "#edges_in, num_ver = [[0,1]] , 2\n",
    "#edges_in, num_ver= one_skeleton_unfilled_cube()\n",
    "#dimHk =  [ 8, 18, 12, 0, 0, 0, 0]\n",
    "dimHk = [4, 4, 0]\n",
    "#rank = quantum_rank_estimation(edges_in, num_ver, pwr, nv, eps, damp)\n",
    "Betti = quantum_Betti_estimation(edges_in, num_ver, dimHk, pwr, nv, eps, damp, [0.00,0.0], expt_name = None, save = False)\n",
    "Betti"
   ]
  },
  {
   "cell_type": "code",
   "execution_count": null,
   "metadata": {},
   "outputs": [],
   "source": [
    "No noise : array([1.39792841, 1.27119665, 0.        ])\n",
    "Noise (0.001): array([1.42281703, 1.35898137, 0.        ])\n",
    "Noise (0.005): array([1.45420094, 1.45964984, 0.        ])\n",
    "Noise (0.01): array([1.46864872, 1.41010404, 0.        ])\n",
    "Noise (0.05): array([1.58682813, 1.53805871, 0.        ])\n",
    "Noise (0.1): array([1.65800044, 1.67416625, 0.        ])"
   ]
  },
  {
   "cell_type": "code",
   "execution_count": 1,
   "metadata": {},
   "outputs": [
    {
     "name": "stderr",
     "output_type": "stream",
     "text": [
      "/usr/local/lib/python3.9/site-packages/qiskit/aqua/__init__.py:86: DeprecationWarning: The package qiskit.aqua is deprecated. It was moved/refactored to qiskit-terra For more information see <https://github.com/Qiskit/qiskit-aqua/blob/main/README.md#migration-guide>\n",
      "  warn_package('aqua', 'qiskit-terra')\n",
      "/usr/local/lib/python3.9/site-packages/qiskit/circuit/quantumcircuit.py:942: DeprecationWarning: The QuantumCircuit.extend() method is being deprecated. Use the compose() (potentially with the inplace=True argument) and tensor() methods which are more flexible w.r.t circuit register compatibility.\n",
      "  return self.extend(rhs)\n"
     ]
    },
    {
     "name": "stdout",
     "output_type": "stream",
     "text": [
      "width:  7 depth:  13\n",
      "width:  8 depth:  25\n",
      "width:  10 depth:  48\n",
      "width:  11 depth:  60\n",
      "width:  13 depth:  83\n",
      "Discarding all 1s vector\n",
      "width:  7 depth:  13\n",
      "width:  8 depth:  25\n",
      "width:  10 depth:  48\n",
      "width:  11 depth:  60\n",
      "width:  13 depth:  83\n",
      "width:  7 depth:  13\n",
      "width:  8 depth:  25\n",
      "width:  10 depth:  48\n",
      "width:  11 depth:  60\n",
      "width:  13 depth:  83\n",
      "Discarding all 1s vector\n",
      "Discarding all 1s vector\n",
      "width:  7 depth:  13\n",
      "width:  8 depth:  25\n",
      "width:  10 depth:  48\n",
      "width:  11 depth:  60\n",
      "width:  13 depth:  83\n",
      "width:  7 depth:  13\n",
      "width:  8 depth:  25\n",
      "width:  10 depth:  48\n",
      "width:  11 depth:  60\n",
      "width:  13 depth:  83\n",
      "width:  7 depth:  13\n",
      "width:  8 depth:  25\n",
      "width:  10 depth:  48\n",
      "width:  11 depth:  60\n",
      "width:  13 depth:  83\n",
      "width:  7 depth:  13\n",
      "width:  8 depth:  25\n",
      "width:  10 depth:  48\n",
      "width:  11 depth:  60\n",
      "width:  13 depth:  83\n",
      "width:  7 depth:  13\n",
      "width:  8 depth:  25\n",
      "width:  10 depth:  48\n",
      "width:  11 depth:  60\n",
      "width:  13 depth:  83\n",
      "width:  7 depth:  13\n",
      "width:  8 depth:  25\n",
      "width:  10 depth:  48\n",
      "width:  11 depth:  60\n",
      "width:  13 depth:  83\n",
      "width:  7 depth:  13\n",
      "width:  8 depth:  25\n",
      "width:  10 depth:  48\n",
      "width:  11 depth:  60\n",
      "width:  13 depth:  83\n",
      "width:  7 depth:  13\n",
      "width:  8 depth:  25\n",
      "width:  10 depth:  48\n",
      "width:  11 depth:  60\n",
      "width:  13 depth:  83\n",
      "width:  7 depth:  13\n",
      "width:  8 depth:  25\n",
      "width:  10 depth:  48\n",
      "width:  11 depth:  60\n",
      "width:  13 depth:  83\n",
      "width:  7 depth:  13\n",
      "width:  8 depth:  25\n",
      "width:  10 depth:  48\n",
      "width:  11 depth:  60\n",
      "width:  13 depth:  83\n",
      "width:  7 depth:  13\n",
      "width:  8 depth:  25\n",
      "width:  10 depth:  48\n",
      "width:  11 depth:  60\n",
      "width:  13 depth:  83\n",
      "width:  7 depth:  13\n",
      "width:  8 depth:  25\n",
      "width:  10 depth:  48\n",
      "width:  11 depth:  60\n",
      "width:  13 depth:  83\n",
      "Discarding all 1s vector\n",
      "width:  7 depth:  13\n",
      "width:  8 depth:  25\n",
      "width:  10 depth:  48\n",
      "width:  11 depth:  60\n",
      "width:  13 depth:  83\n",
      "width:  7 depth:  13\n",
      "width:  8 depth:  25\n",
      "width:  10 depth:  48\n",
      "width:  11 depth:  60\n",
      "width:  13 depth:  83\n",
      "width:  7 depth:  13\n",
      "width:  8 depth:  25\n",
      "width:  10 depth:  48\n",
      "width:  11 depth:  60\n",
      "width:  13 depth:  83\n",
      "Discarding all 1s vector\n",
      "Discarding all 1s vector\n",
      "width:  7 depth:  13\n",
      "width:  8 depth:  25\n",
      "width:  10 depth:  48\n",
      "width:  11 depth:  60\n",
      "width:  13 depth:  83\n"
     ]
    },
    {
     "data": {
      "image/png": "[encoded data removed]",
      "text/plain": [
       "<Figure size 432x288 with 3 Axes>"
      ]
     },
     "metadata": {
      "needs_background": "light"
     },
     "output_type": "display_data"
    }
   ],
   "source": [
    "from quantum_rank_estimation import quantum_rank_estimation, quantum_Betti_estimation\n",
    "from classical_homology import one_skeleton_square, one_skeleton_unfilled_cube, one_skeleton_random\n",
    "from classical_homology import complex_one_skeleton, one_skeleton_remap\n",
    "import matplotlib.pyplot as plt\n",
    "import numpy as np\n",
    "# import json\n",
    "# points = json.load(open('cmb_sample_points.json', \"r\"))\n",
    "# epsilon = 15\n",
    "# edges_in, num_ver = one_skeleton_remap(complex_one_skeleton(points[0:7], epsilon))\n",
    "eps = 0.05\n",
    "damp = 2\n",
    "deg = 5\n",
    "nv = 5\n",
    "pwr = range(deg)\n",
    "#edges_in, num_ver= one_skeleton_random()\n",
    "edges_in, num_ver = [[0,1]] , 2\n",
    "alpha = range(-2,3)\n",
    "dimHk = [4,4,0]\n",
    "#dimHk =  [ 0, 0, 0, 0, 0, 0, 0]\n",
    "#rank = quantum_rank_estimation(edges_in, num_ver, pwr, nv, eps, damp)\n",
    "Betti = np.zeros((3, len(alpha)))\n",
    "fig, axs = plt.subplots(3)\n",
    "for idx, i in enumerate(alpha):\n",
    "        Betti[:,idx] = quantum_Betti_estimation(edges_in, num_ver, dimHk, pwr, nv, eps, damp, \\\n",
    "                                              [0.001*(10**i),min(0.01*(10**i),0.1)],  save = False)\n",
    "#\"edge-surf-\"+str(idx)\n",
    "true_betti = [1,1,0]\n",
    "xval =['(0.00001,0.0001)','(0.0001,0.001)','(0.001,0.01)','(0.01,0.1)','(0.1,0.1)']\n",
    "for k in range(3):\n",
    "    axs[k].plot(xval,Betti[k,:],'*-')\n",
    "    axs[k].plot(xval,np.tile(true_betti[k],len(alpha)),'k--')\n",
    "#plt.savefig('random8_noise_lvl_quantum.png')"
   ]
  },
  {
   "cell_type": "code",
   "execution_count": null,
   "metadata": {},
   "outputs": [],
   "source": [
    "from quantum_rank_estimation import quantum_Betti_estimation_json\n",
    "from classical_homology import one_skeleton_square, one_skeleton_unfilled_cube\n",
    "eps = 0.05\n",
    "damp = 0\n",
    "deg = 5\n",
    "nv = 5\n",
    "pwr = range(deg)\n",
    "#edges_in, num_ver= one_skeleton_square()\n",
    "edges_in, num_ver= one_skeleton_unfilled_cube()\n",
    "dimHk =  [ 8, 18, 12, 0, 0, 0, 0]\n",
    "#dimHk = [4, 4, 0]\n",
    "Betti = quantum_Betti_estimation_json( num_ver, dimHk, pwr, nv, eps, damp, expt_name = \"cube\")\n",
    "Betti"
   ]
  },
  {
   "cell_type": "code",
   "execution_count": null,
   "metadata": {},
   "outputs": [],
   "source": [
    "import numpy as np\n",
    "import matplotlib.pyplot as plt\n",
    "from quantum_rank_estimation import quantum_rank_estimation, quantum_Betti_estimation\n",
    "from classical_homology import one_skeleton_square, one_skeleton_unfilled_cube\n",
    "from classical_homology import complex_one_skeleton, one_skeleton_remap\n",
    "eps = 0.005\n",
    "damp = 0\n",
    "deg = range(2,9)\n",
    "nv = 10\n",
    "num_vertices = 4\n",
    "edges_in, num_ver= one_skeleton_square()\n",
    "#edges_in, num_ver= one_skeleton_unfilled_cube()\n",
    "#dimHk =  [ 8, 18, 12, 0, 0, 0, 0]\n",
    "dimHk = [4, 4, 0]\n",
    "\n",
    "fig, axs = plt.subplots(3)\n",
    "Betti = np.zeros([num_vertices-1,len(deg)])\n",
    "for idx,i in enumerate(deg):\n",
    "    pwr= range(i)\n",
    "   # Betti[:,idx] = classical_betti_from_rank_estimation_of_laplacian(vit_vec, i, nv, eps, damp)\n",
    "    Betti[:,idx] = quantum_Betti_estimation(edges_in, num_ver, dimHk, pwr, nv, eps, damp, [0.000,0.000])\n",
    "\n",
    "true_betti = [1,1,0]\n",
    "for k in range(3):\n",
    "    axs[k].plot(deg,Betti[k,:],'*-')\n",
    "    axs[k].plot(deg,np.tile(true_betti[k],len(deg)),'k--')\n",
    "plt.savefig('square_deg_quantum.png')"
   ]
  },
  {
   "cell_type": "code",
   "execution_count": null,
   "metadata": {},
   "outputs": [],
   "source": [
    "import numpy as np\n",
    "import matplotlib.pyplot as plt\n",
    "from quantum_rank_estimation import quantum_rank_estimation, quantum_Betti_estimation\n",
    "from classical_homology import one_skeleton_square, one_skeleton_unfilled_cube\n",
    "eps = 0.005\n",
    "damp = 0\n",
    "deg = 4\n",
    "nv = range(5,31,5)\n",
    "pwr= range(deg)\n",
    "num_vertices = 4\n",
    "edges_in, num_ver= one_skeleton_square()\n",
    "#edges_in, num_ver= one_skeleton_unfilled_cube()\n",
    "#dimHk =  [ 8, 18, 12, 0, 0, 0, 0]\n",
    "dimHk = [4, 4, 0]\n",
    "\n",
    "fig, axs = plt.subplots(3)\n",
    "Betti = np.zeros([num_vertices-1,len(nv)])\n",
    "for  idx,i in enumerate(nv):\n",
    "   # Betti[:,idx] = classical_betti_from_rank_estimation_of_laplacian(vit_vec, deg, i, eps, damp)\n",
    "    Betti[:,idx] = quantum_Betti_estimation(edges_in, num_ver, dimHk, pwr, i, eps, damp, [0.001,0.01])\n",
    "\n",
    "true_betti = [1,1,0]\n",
    "for k in range(3):\n",
    "    axs[k].plot(nv,Betti[k,:],'*-')\n",
    "    axs[k].plot(nv,np.tile(true_betti[k],len(nv)),'k--')\n",
    "plt.savefig('square_nv_quantum_noisy.png')"
   ]
  },
  {
   "cell_type": "code",
   "execution_count": null,
   "metadata": {},
   "outputs": [],
   "source": [
    "Betti"
   ]
  },
  {
   "cell_type": "code",
   "execution_count": 3,
   "metadata": {},
   "outputs": [
    {
     "name": "stdout",
     "output_type": "stream",
     "text": [
      "Found job:  CMB_8_nv-degree0sample0 , Status is:  JobStatus.DONE .\n",
      "Laplacian Original:\n",
      "width:  51\n",
      "depth:  0\n",
      "Found job:  CMB_8_nv-degree1sample0 , Status is:  JobStatus.DONE .\n",
      "Laplacian Original:\n",
      "width:  79\n",
      "depth:  0\n",
      "Found job:  CMB_8_nv-degree2sample0 , Status is:  JobStatus.DONE .\n",
      "Laplacian Original:\n",
      "width:  110\n",
      "depth:  0\n",
      "Found job:  CMB_8_nv-degree3sample0 , Status is:  JobStatus.DONE .\n",
      "Laplacian Original:\n",
      "width:  138\n",
      "depth:  0\n",
      "Found job:  CMB_8_nv-degree4sample0 , Status is:  JobStatus.DONE .\n",
      "Laplacian Original:\n",
      "width:  169\n",
      "depth:  0\n",
      "Found job:  CMB_8_nv-degree0sample1 , Status is:  JobStatus.DONE .\n",
      "Laplacian Original:\n",
      "width:  51\n",
      "depth:  0\n",
      "Found job:  CMB_8_nv-degree1sample1 , Status is:  JobStatus.DONE .\n",
      "Laplacian Original:\n",
      "width:  79\n",
      "depth:  0\n",
      "Found job:  CMB_8_nv-degree2sample1 , Status is:  JobStatus.DONE .\n",
      "Laplacian Original:\n",
      "width:  110\n",
      "depth:  0\n",
      "Found job:  CMB_8_nv-degree3sample1 , Status is:  JobStatus.DONE .\n",
      "Laplacian Original:\n",
      "width:  138\n",
      "depth:  0\n",
      "Found job:  CMB_8_nv-degree4sample1 , Status is:  JobStatus.DONE .\n",
      "Laplacian Original:\n",
      "width:  169\n",
      "depth:  0\n",
      "Found job:  CMB_8_nv-degree0sample2 , Status is:  JobStatus.DONE .\n",
      "Laplacian Original:\n",
      "width:  51\n",
      "depth:  0\n",
      "Found job:  CMB_8_nv-degree1sample2 , Status is:  JobStatus.DONE .\n",
      "Laplacian Original:\n",
      "width:  79\n",
      "depth:  0\n",
      "Found job:  CMB_8_nv-degree2sample2 , Status is:  JobStatus.DONE .\n",
      "Laplacian Original:\n",
      "width:  110\n",
      "depth:  0\n",
      "Found job:  CMB_8_nv-degree3sample2 , Status is:  JobStatus.DONE .\n",
      "Laplacian Original:\n",
      "width:  138\n",
      "depth:  0\n",
      "Found job:  CMB_8_nv-degree4sample2 , Status is:  JobStatus.DONE .\n",
      "Laplacian Original:\n",
      "width:  169\n",
      "depth:  0\n"
     ]
    },
    {
     "ename": "KeyboardInterrupt",
     "evalue": "",
     "output_type": "error",
     "traceback": [
      "\u001b[0;31m---------------------------------------------------------------------------\u001b[0m",
      "\u001b[0;31mKeyboardInterrupt\u001b[0m                         Traceback (most recent call last)",
      "\u001b[0;32m<ipython-input-3-4336669001bb>\u001b[0m in \u001b[0;36m<module>\u001b[0;34m\u001b[0m\n\u001b[1;32m     13\u001b[0m \u001b[0medges_in\u001b[0m\u001b[0;34m,\u001b[0m \u001b[0mnum_ver\u001b[0m \u001b[0;34m=\u001b[0m \u001b[0mone_skeleton_remap\u001b[0m\u001b[0;34m(\u001b[0m\u001b[0mcomplex_one_skeleton\u001b[0m\u001b[0;34m(\u001b[0m\u001b[0mpoints\u001b[0m\u001b[0;34m[\u001b[0m\u001b[0;36m0\u001b[0m\u001b[0;34m:\u001b[0m\u001b[0;36m7\u001b[0m\u001b[0;34m]\u001b[0m\u001b[0;34m,\u001b[0m \u001b[0mepsilon\u001b[0m\u001b[0;34m)\u001b[0m\u001b[0;34m)\u001b[0m\u001b[0;34m\u001b[0m\u001b[0;34m\u001b[0m\u001b[0m\n\u001b[1;32m     14\u001b[0m \u001b[0mdimHk\u001b[0m \u001b[0;34m=\u001b[0m  \u001b[0;34m[\u001b[0m \u001b[0;36m3\u001b[0m\u001b[0;34m,\u001b[0m \u001b[0;36m0\u001b[0m\u001b[0;34m,\u001b[0m \u001b[0;36m0\u001b[0m\u001b[0;34m,\u001b[0m \u001b[0;36m0\u001b[0m\u001b[0;34m,\u001b[0m \u001b[0;36m0\u001b[0m\u001b[0;34m,\u001b[0m \u001b[0;36m0\u001b[0m\u001b[0;34m,\u001b[0m \u001b[0;36m0\u001b[0m\u001b[0;34m]\u001b[0m\u001b[0;34m\u001b[0m\u001b[0;34m\u001b[0m\u001b[0m\n\u001b[0;32m---> 15\u001b[0;31m \u001b[0mBetti\u001b[0m \u001b[0;34m=\u001b[0m \u001b[0mquantum_Betti_estimation\u001b[0m\u001b[0;34m(\u001b[0m\u001b[0medges_in\u001b[0m\u001b[0;34m,\u001b[0m \u001b[0mnum_ver\u001b[0m\u001b[0;34m,\u001b[0m \u001b[0mdimHk\u001b[0m\u001b[0;34m,\u001b[0m \u001b[0mpwr\u001b[0m\u001b[0;34m,\u001b[0m \u001b[0mnv\u001b[0m\u001b[0;34m,\u001b[0m \u001b[0meps\u001b[0m\u001b[0;34m,\u001b[0m \u001b[0mdamp\u001b[0m\u001b[0;34m,\u001b[0m \u001b[0;34m[\u001b[0m\u001b[0;36m0.001\u001b[0m\u001b[0;34m,\u001b[0m\u001b[0;36m0.01\u001b[0m\u001b[0;34m]\u001b[0m\u001b[0;34m,\u001b[0m \u001b[0mexpt_name\u001b[0m \u001b[0;34m=\u001b[0m \u001b[0;34m\"CMB_8_nv-\"\u001b[0m\u001b[0;34m,\u001b[0m \u001b[0msave\u001b[0m \u001b[0;34m=\u001b[0m \u001b[0;32mTrue\u001b[0m\u001b[0;34m)\u001b[0m\u001b[0;34m\u001b[0m\u001b[0;34m\u001b[0m\u001b[0m\n\u001b[0m\u001b[1;32m     16\u001b[0m \u001b[0mBetti\u001b[0m\u001b[0;34m\u001b[0m\u001b[0;34m\u001b[0m\u001b[0m\n",
      "\u001b[0;32m~/Documents/Shash/Quantum_mech/QTDA-master/code/quantum_rank_estimation.py\u001b[0m in \u001b[0;36mquantum_Betti_estimation\u001b[0;34m(edges_in, num_ver, dimHk, pwr, nv, eps, damp, noise_lvl, expt_name, save, gpu_on)\u001b[0m\n\u001b[1;32m    115\u001b[0m     \u001b[0mrank\u001b[0m \u001b[0;34m=\u001b[0m \u001b[0mnp\u001b[0m\u001b[0;34m.\u001b[0m\u001b[0mzeros\u001b[0m\u001b[0;34m(\u001b[0m\u001b[0;34m[\u001b[0m\u001b[0mnv\u001b[0m\u001b[0;34m,\u001b[0m\u001b[0mnum_ver\u001b[0m\u001b[0;34m-\u001b[0m\u001b[0;36m1\u001b[0m\u001b[0;34m]\u001b[0m\u001b[0;34m)\u001b[0m\u001b[0;34m\u001b[0m\u001b[0;34m\u001b[0m\u001b[0m\n\u001b[1;32m    116\u001b[0m     \u001b[0mmu\u001b[0m \u001b[0;34m=\u001b[0m \u001b[0mChebyshev_step\u001b[0m\u001b[0;34m(\u001b[0m\u001b[0mnp\u001b[0m\u001b[0;34m.\u001b[0m\u001b[0mmax\u001b[0m\u001b[0;34m(\u001b[0m\u001b[0mpwr\u001b[0m\u001b[0;34m)\u001b[0m\u001b[0;34m+\u001b[0m\u001b[0;36m1\u001b[0m\u001b[0;34m,\u001b[0m \u001b[0meps\u001b[0m\u001b[0;34m,\u001b[0m \u001b[0mdamp\u001b[0m\u001b[0;34m)\u001b[0m\u001b[0;34m\u001b[0m\u001b[0;34m\u001b[0m\u001b[0m\n\u001b[0;32m--> 117\u001b[0;31m     \u001b[0mexp_tensor\u001b[0m \u001b[0;34m=\u001b[0m \u001b[0mexpectation_over_random_hadamard_vecs\u001b[0m\u001b[0;34m(\u001b[0m\u001b[0mnum_ver\u001b[0m\u001b[0;34m,\u001b[0m \u001b[0medges_in\u001b[0m\u001b[0;34m,\u001b[0m \u001b[0mpowers\u001b[0m\u001b[0;34m=\u001b[0m\u001b[0mpwr\u001b[0m\u001b[0;34m,\u001b[0m \u001b[0mnum_samples\u001b[0m\u001b[0;34m=\u001b[0m\u001b[0mnv\u001b[0m\u001b[0;34m,\u001b[0m \u001b[0mnoise_on\u001b[0m \u001b[0;34m=\u001b[0m \u001b[0;32mTrue\u001b[0m\u001b[0;34m,\u001b[0m\u001b[0mgpu_on\u001b[0m \u001b[0;34m=\u001b[0m \u001b[0mgpu_on\u001b[0m\u001b[0;34m,\u001b[0m \u001b[0mnoise_lvl\u001b[0m \u001b[0;34m=\u001b[0m \u001b[0mnoise_lvl\u001b[0m\u001b[0;34m,\u001b[0m \u001b[0mexpt_name\u001b[0m \u001b[0;34m=\u001b[0m \u001b[0mexpt_name\u001b[0m\u001b[0;34m)\u001b[0m\u001b[0;34m\u001b[0m\u001b[0;34m\u001b[0m\u001b[0m\n\u001b[0m\u001b[1;32m    118\u001b[0m     \u001b[0;32mif\u001b[0m \u001b[0msave\u001b[0m\u001b[0;34m:\u001b[0m\u001b[0;34m\u001b[0m\u001b[0;34m\u001b[0m\u001b[0m\n\u001b[1;32m    119\u001b[0m         \u001b[0mexp_file\u001b[0m \u001b[0;34m=\u001b[0m \u001b[0;34m\"results\"\u001b[0m\u001b[0;34m+\u001b[0m\u001b[0mexpt_name\u001b[0m\u001b[0;34m+\u001b[0m\u001b[0;34m\".txt\"\u001b[0m\u001b[0;34m\u001b[0m\u001b[0;34m\u001b[0m\u001b[0m\n",
      "\u001b[0;32m~/Documents/Shash/Quantum_mech/QTDA-master/code/quantum_homology.py\u001b[0m in \u001b[0;36mexpectation_over_random_hadamard_vecs\u001b[0;34m(num_vertices, edges_in, powers, num_samples, noise_on, noise_lvl, expt_name, gpu_on)\u001b[0m\n\u001b[1;32m   1554\u001b[0m                                    num_vertices-1))\n\u001b[1;32m   1555\u001b[0m \u001b[0;34m\u001b[0m\u001b[0m\n\u001b[0;32m-> 1556\u001b[0;31m     \u001b[0;32mfor\u001b[0m \u001b[0msample\u001b[0m \u001b[0;32min\u001b[0m \u001b[0mrange\u001b[0m\u001b[0;34m(\u001b[0m\u001b[0mnum_samples\u001b[0m\u001b[0;34m)\u001b[0m\u001b[0;34m:\u001b[0m\u001b[0;34m\u001b[0m\u001b[0;34m\u001b[0m\u001b[0m\n\u001b[0m\u001b[1;32m   1557\u001b[0m \u001b[0;34m\u001b[0m\u001b[0m\n\u001b[1;32m   1558\u001b[0m         \u001b[0mrandom_circ\u001b[0m \u001b[0;34m=\u001b[0m \u001b[0mQuantumCircuit\u001b[0m\u001b[0;34m(\u001b[0m\u001b[0mnum_vertices\u001b[0m\u001b[0;34m)\u001b[0m\u001b[0;34m\u001b[0m\u001b[0;34m\u001b[0m\u001b[0m\n",
      "\u001b[0;32m~/Documents/Shash/Quantum_mech/QTDA-master/code/quantum_homology.py\u001b[0m in \u001b[0;36mexpectation_of_laplacian\u001b[0;34m(num_vertices, edges_in, vec_in, vec_in_circ, power, mid_circuit, sqrt, num_resets, job_name, backend_name, rename_job_after_done, do_rccx, noise_on, noise_lvl, gpu_on)\u001b[0m\n\u001b[1;32m   1263\u001b[0m \u001b[0;34m\u001b[0m\u001b[0m\n\u001b[1;32m   1264\u001b[0m             \u001b[0;32mif\u001b[0m \u001b[0mbackend_name\u001b[0m \u001b[0;32mis\u001b[0m \u001b[0;32mnot\u001b[0m \u001b[0;32mNone\u001b[0m\u001b[0;34m:\u001b[0m\u001b[0;34m\u001b[0m\u001b[0;34m\u001b[0m\u001b[0m\n\u001b[0;32m-> 1265\u001b[0;31m                 \u001b[0mbackend\u001b[0m \u001b[0;34m=\u001b[0m \u001b[0mprovider\u001b[0m\u001b[0;34m.\u001b[0m\u001b[0mget_backend\u001b[0m\u001b[0;34m(\u001b[0m\u001b[0mbackend_name\u001b[0m\u001b[0;34m)\u001b[0m\u001b[0;34m\u001b[0m\u001b[0;34m\u001b[0m\u001b[0m\n\u001b[0m\u001b[1;32m   1266\u001b[0m \u001b[0;34m\u001b[0m\u001b[0m\n\u001b[1;32m   1267\u001b[0m             \u001b[0;32mif\u001b[0m \u001b[0mjob_name\u001b[0m \u001b[0;32mis\u001b[0m \u001b[0;32mnot\u001b[0m \u001b[0;32mNone\u001b[0m\u001b[0;34m:\u001b[0m\u001b[0;34m\u001b[0m\u001b[0;34m\u001b[0m\u001b[0m\n",
      "\u001b[0;32m/usr/local/lib/python3.9/site-packages/qiskit/providers/ibmq/job/ibmqjob.py\u001b[0m in \u001b[0;36mresult\u001b[0;34m(self, timeout, wait, partial, refresh)\u001b[0m\n\u001b[1;32m    292\u001b[0m                         self.job_id(), error_message))\n\u001b[1;32m    293\u001b[0m         \u001b[0;32melse\u001b[0m\u001b[0;34m:\u001b[0m\u001b[0;34m\u001b[0m\u001b[0;34m\u001b[0m\u001b[0m\n\u001b[0;32m--> 294\u001b[0;31m             \u001b[0mself\u001b[0m\u001b[0;34m.\u001b[0m\u001b[0m_retrieve_result\u001b[0m\u001b[0;34m(\u001b[0m\u001b[0mrefresh\u001b[0m\u001b[0;34m=\u001b[0m\u001b[0mrefresh\u001b[0m\u001b[0;34m)\u001b[0m\u001b[0;34m\u001b[0m\u001b[0;34m\u001b[0m\u001b[0m\n\u001b[0m\u001b[1;32m    295\u001b[0m \u001b[0;34m\u001b[0m\u001b[0m\n\u001b[1;32m    296\u001b[0m         \u001b[0;32mreturn\u001b[0m \u001b[0mself\u001b[0m\u001b[0;34m.\u001b[0m\u001b[0m_result\u001b[0m\u001b[0;34m\u001b[0m\u001b[0;34m\u001b[0m\u001b[0m\n",
      "\u001b[0;32m/usr/local/lib/python3.9/site-packages/qiskit/providers/ibmq/job/ibmqjob.py\u001b[0m in \u001b[0;36m_retrieve_result\u001b[0;34m(self, refresh)\u001b[0m\n\u001b[1;32m    948\u001b[0m         \u001b[0;32mif\u001b[0m \u001b[0;32mnot\u001b[0m \u001b[0mself\u001b[0m\u001b[0;34m.\u001b[0m\u001b[0m_result\u001b[0m \u001b[0;32mor\u001b[0m \u001b[0mrefresh\u001b[0m\u001b[0;34m:\u001b[0m  \u001b[0;31m# type: ignore[has-type]\u001b[0m\u001b[0;34m\u001b[0m\u001b[0;34m\u001b[0m\u001b[0m\n\u001b[1;32m    949\u001b[0m             \u001b[0;32mtry\u001b[0m\u001b[0;34m:\u001b[0m\u001b[0;34m\u001b[0m\u001b[0;34m\u001b[0m\u001b[0m\n\u001b[0;32m--> 950\u001b[0;31m                 result_response = self._api_client.job_result(\n\u001b[0m\u001b[1;32m    951\u001b[0m                     self.job_id(), self._use_object_storage)\n\u001b[1;32m    952\u001b[0m                 \u001b[0mself\u001b[0m\u001b[0;34m.\u001b[0m\u001b[0m_set_result\u001b[0m\u001b[0;34m(\u001b[0m\u001b[0mresult_response\u001b[0m\u001b[0;34m)\u001b[0m\u001b[0;34m\u001b[0m\u001b[0;34m\u001b[0m\u001b[0m\n",
      "\u001b[0;32m/usr/local/lib/python3.9/site-packages/qiskit/providers/ibmq/api/clients/account.py\u001b[0m in \u001b[0;36mjob_result\u001b[0;34m(self, job_id, use_object_storage)\u001b[0m\n\u001b[1;32m    271\u001b[0m         \"\"\"\n\u001b[1;32m    272\u001b[0m         \u001b[0;32mif\u001b[0m \u001b[0muse_object_storage\u001b[0m\u001b[0;34m:\u001b[0m\u001b[0;34m\u001b[0m\u001b[0;34m\u001b[0m\u001b[0m\n\u001b[0;32m--> 273\u001b[0;31m             \u001b[0;32mreturn\u001b[0m \u001b[0mself\u001b[0m\u001b[0;34m.\u001b[0m\u001b[0m_job_result_object_storage\u001b[0m\u001b[0;34m(\u001b[0m\u001b[0mjob_id\u001b[0m\u001b[0;34m)\u001b[0m\u001b[0;34m\u001b[0m\u001b[0;34m\u001b[0m\u001b[0m\n\u001b[0m\u001b[1;32m    274\u001b[0m \u001b[0;34m\u001b[0m\u001b[0m\n\u001b[1;32m    275\u001b[0m         \u001b[0;32mtry\u001b[0m\u001b[0;34m:\u001b[0m\u001b[0;34m\u001b[0m\u001b[0;34m\u001b[0m\u001b[0m\n",
      "\u001b[0;32m/usr/local/lib/python3.9/site-packages/qiskit/providers/ibmq/api/clients/account.py\u001b[0m in \u001b[0;36m_job_result_object_storage\u001b[0;34m(self, job_id)\u001b[0m\n\u001b[1;32m    291\u001b[0m \u001b[0;34m\u001b[0m\u001b[0m\n\u001b[1;32m    292\u001b[0m         \u001b[0;31m# Get the download URL.\u001b[0m\u001b[0;34m\u001b[0m\u001b[0;34m\u001b[0m\u001b[0;34m\u001b[0m\u001b[0m\n\u001b[0;32m--> 293\u001b[0;31m         \u001b[0mdownload_url\u001b[0m \u001b[0;34m=\u001b[0m \u001b[0mjob_api\u001b[0m\u001b[0;34m.\u001b[0m\u001b[0mresult_url\u001b[0m\u001b[0;34m(\u001b[0m\u001b[0;34m)\u001b[0m\u001b[0;34m[\u001b[0m\u001b[0;34m'url'\u001b[0m\u001b[0;34m]\u001b[0m\u001b[0;34m\u001b[0m\u001b[0;34m\u001b[0m\u001b[0m\n\u001b[0m\u001b[1;32m    294\u001b[0m \u001b[0;34m\u001b[0m\u001b[0m\n\u001b[1;32m    295\u001b[0m         \u001b[0;31m# Download the result from object storage.\u001b[0m\u001b[0;34m\u001b[0m\u001b[0;34m\u001b[0m\u001b[0;34m\u001b[0m\u001b[0m\n",
      "\u001b[0;32m/usr/local/lib/python3.9/site-packages/qiskit/providers/ibmq/api/rest/job.py\u001b[0m in \u001b[0;36mresult_url\u001b[0;34m(self)\u001b[0m\n\u001b[1;32m    146\u001b[0m         \"\"\"\n\u001b[1;32m    147\u001b[0m         \u001b[0murl\u001b[0m \u001b[0;34m=\u001b[0m \u001b[0mself\u001b[0m\u001b[0;34m.\u001b[0m\u001b[0mget_url\u001b[0m\u001b[0;34m(\u001b[0m\u001b[0;34m'result_url'\u001b[0m\u001b[0;34m)\u001b[0m\u001b[0;34m\u001b[0m\u001b[0;34m\u001b[0m\u001b[0m\n\u001b[0;32m--> 148\u001b[0;31m         \u001b[0;32mreturn\u001b[0m \u001b[0mself\u001b[0m\u001b[0;34m.\u001b[0m\u001b[0msession\u001b[0m\u001b[0;34m.\u001b[0m\u001b[0mget\u001b[0m\u001b[0;34m(\u001b[0m\u001b[0murl\u001b[0m\u001b[0;34m)\u001b[0m\u001b[0;34m.\u001b[0m\u001b[0mjson\u001b[0m\u001b[0;34m(\u001b[0m\u001b[0;34m)\u001b[0m\u001b[0;34m\u001b[0m\u001b[0;34m\u001b[0m\u001b[0m\n\u001b[0m\u001b[1;32m    149\u001b[0m \u001b[0;34m\u001b[0m\u001b[0m\n\u001b[1;32m    150\u001b[0m     \u001b[0;32mdef\u001b[0m \u001b[0mstatus\u001b[0m\u001b[0;34m(\u001b[0m\u001b[0mself\u001b[0m\u001b[0;34m)\u001b[0m \u001b[0;34m->\u001b[0m \u001b[0mDict\u001b[0m\u001b[0;34m[\u001b[0m\u001b[0mstr\u001b[0m\u001b[0;34m,\u001b[0m \u001b[0mAny\u001b[0m\u001b[0;34m]\u001b[0m\u001b[0;34m:\u001b[0m\u001b[0;34m\u001b[0m\u001b[0;34m\u001b[0m\u001b[0m\n",
      "\u001b[0;32m/usr/local/lib/python3.9/site-packages/requests/sessions.py\u001b[0m in \u001b[0;36mget\u001b[0;34m(self, url, **kwargs)\u001b[0m\n\u001b[1;32m    553\u001b[0m \u001b[0;34m\u001b[0m\u001b[0m\n\u001b[1;32m    554\u001b[0m         \u001b[0mkwargs\u001b[0m\u001b[0;34m.\u001b[0m\u001b[0msetdefault\u001b[0m\u001b[0;34m(\u001b[0m\u001b[0;34m'allow_redirects'\u001b[0m\u001b[0;34m,\u001b[0m \u001b[0;32mTrue\u001b[0m\u001b[0;34m)\u001b[0m\u001b[0;34m\u001b[0m\u001b[0;34m\u001b[0m\u001b[0m\n\u001b[0;32m--> 555\u001b[0;31m         \u001b[0;32mreturn\u001b[0m \u001b[0mself\u001b[0m\u001b[0;34m.\u001b[0m\u001b[0mrequest\u001b[0m\u001b[0;34m(\u001b[0m\u001b[0;34m'GET'\u001b[0m\u001b[0;34m,\u001b[0m \u001b[0murl\u001b[0m\u001b[0;34m,\u001b[0m \u001b[0;34m**\u001b[0m\u001b[0mkwargs\u001b[0m\u001b[0;34m)\u001b[0m\u001b[0;34m\u001b[0m\u001b[0;34m\u001b[0m\u001b[0m\n\u001b[0m\u001b[1;32m    556\u001b[0m \u001b[0;34m\u001b[0m\u001b[0m\n\u001b[1;32m    557\u001b[0m     \u001b[0;32mdef\u001b[0m \u001b[0moptions\u001b[0m\u001b[0;34m(\u001b[0m\u001b[0mself\u001b[0m\u001b[0;34m,\u001b[0m \u001b[0murl\u001b[0m\u001b[0;34m,\u001b[0m \u001b[0;34m**\u001b[0m\u001b[0mkwargs\u001b[0m\u001b[0;34m)\u001b[0m\u001b[0;34m:\u001b[0m\u001b[0;34m\u001b[0m\u001b[0;34m\u001b[0m\u001b[0m\n",
      "\u001b[0;32m/usr/local/lib/python3.9/site-packages/qiskit/providers/ibmq/api/session.py\u001b[0m in \u001b[0;36mrequest\u001b[0;34m(self, method, url, bare, **kwargs)\u001b[0m\n\u001b[1;32m    275\u001b[0m         \u001b[0;32mtry\u001b[0m\u001b[0;34m:\u001b[0m\u001b[0;34m\u001b[0m\u001b[0;34m\u001b[0m\u001b[0m\n\u001b[1;32m    276\u001b[0m             \u001b[0mself\u001b[0m\u001b[0;34m.\u001b[0m\u001b[0m_log_request_info\u001b[0m\u001b[0;34m(\u001b[0m\u001b[0murl\u001b[0m\u001b[0;34m,\u001b[0m \u001b[0mmethod\u001b[0m\u001b[0;34m,\u001b[0m \u001b[0mkwargs\u001b[0m\u001b[0;34m)\u001b[0m\u001b[0;34m\u001b[0m\u001b[0;34m\u001b[0m\u001b[0m\n\u001b[0;32m--> 277\u001b[0;31m             \u001b[0mresponse\u001b[0m \u001b[0;34m=\u001b[0m \u001b[0msuper\u001b[0m\u001b[0;34m(\u001b[0m\u001b[0;34m)\u001b[0m\u001b[0;34m.\u001b[0m\u001b[0mrequest\u001b[0m\u001b[0;34m(\u001b[0m\u001b[0mmethod\u001b[0m\u001b[0;34m,\u001b[0m \u001b[0mfinal_url\u001b[0m\u001b[0;34m,\u001b[0m \u001b[0mheaders\u001b[0m\u001b[0;34m=\u001b[0m\u001b[0mheaders\u001b[0m\u001b[0;34m,\u001b[0m \u001b[0;34m**\u001b[0m\u001b[0mkwargs\u001b[0m\u001b[0;34m)\u001b[0m\u001b[0;34m\u001b[0m\u001b[0;34m\u001b[0m\u001b[0m\n\u001b[0m\u001b[1;32m    278\u001b[0m             \u001b[0mresponse\u001b[0m\u001b[0;34m.\u001b[0m\u001b[0mraise_for_status\u001b[0m\u001b[0;34m(\u001b[0m\u001b[0;34m)\u001b[0m\u001b[0;34m\u001b[0m\u001b[0;34m\u001b[0m\u001b[0m\n\u001b[1;32m    279\u001b[0m         \u001b[0;32mexcept\u001b[0m \u001b[0mRequestException\u001b[0m \u001b[0;32mas\u001b[0m \u001b[0mex\u001b[0m\u001b[0;34m:\u001b[0m\u001b[0;34m\u001b[0m\u001b[0;34m\u001b[0m\u001b[0m\n",
      "\u001b[0;32m/usr/local/lib/python3.9/site-packages/requests/sessions.py\u001b[0m in \u001b[0;36mrequest\u001b[0;34m(self, method, url, params, data, headers, cookies, files, auth, timeout, allow_redirects, proxies, hooks, stream, verify, cert, json)\u001b[0m\n\u001b[1;32m    540\u001b[0m         }\n\u001b[1;32m    541\u001b[0m         \u001b[0msend_kwargs\u001b[0m\u001b[0;34m.\u001b[0m\u001b[0mupdate\u001b[0m\u001b[0;34m(\u001b[0m\u001b[0msettings\u001b[0m\u001b[0;34m)\u001b[0m\u001b[0;34m\u001b[0m\u001b[0;34m\u001b[0m\u001b[0m\n\u001b[0;32m--> 542\u001b[0;31m         \u001b[0mresp\u001b[0m \u001b[0;34m=\u001b[0m \u001b[0mself\u001b[0m\u001b[0;34m.\u001b[0m\u001b[0msend\u001b[0m\u001b[0;34m(\u001b[0m\u001b[0mprep\u001b[0m\u001b[0;34m,\u001b[0m \u001b[0;34m**\u001b[0m\u001b[0msend_kwargs\u001b[0m\u001b[0;34m)\u001b[0m\u001b[0;34m\u001b[0m\u001b[0;34m\u001b[0m\u001b[0m\n\u001b[0m\u001b[1;32m    543\u001b[0m \u001b[0;34m\u001b[0m\u001b[0m\n\u001b[1;32m    544\u001b[0m         \u001b[0;32mreturn\u001b[0m \u001b[0mresp\u001b[0m\u001b[0;34m\u001b[0m\u001b[0;34m\u001b[0m\u001b[0m\n",
      "\u001b[0;32m/usr/local/lib/python3.9/site-packages/requests/sessions.py\u001b[0m in \u001b[0;36msend\u001b[0;34m(self, request, **kwargs)\u001b[0m\n\u001b[1;32m    653\u001b[0m \u001b[0;34m\u001b[0m\u001b[0m\n\u001b[1;32m    654\u001b[0m         \u001b[0;31m# Send the request\u001b[0m\u001b[0;34m\u001b[0m\u001b[0;34m\u001b[0m\u001b[0;34m\u001b[0m\u001b[0m\n\u001b[0;32m--> 655\u001b[0;31m         \u001b[0mr\u001b[0m \u001b[0;34m=\u001b[0m \u001b[0madapter\u001b[0m\u001b[0;34m.\u001b[0m\u001b[0msend\u001b[0m\u001b[0;34m(\u001b[0m\u001b[0mrequest\u001b[0m\u001b[0;34m,\u001b[0m \u001b[0;34m**\u001b[0m\u001b[0mkwargs\u001b[0m\u001b[0;34m)\u001b[0m\u001b[0;34m\u001b[0m\u001b[0;34m\u001b[0m\u001b[0m\n\u001b[0m\u001b[1;32m    656\u001b[0m \u001b[0;34m\u001b[0m\u001b[0m\n\u001b[1;32m    657\u001b[0m         \u001b[0;31m# Total elapsed time of the request (approximately)\u001b[0m\u001b[0;34m\u001b[0m\u001b[0;34m\u001b[0m\u001b[0;34m\u001b[0m\u001b[0m\n",
      "\u001b[0;32m/usr/local/lib/python3.9/site-packages/requests/adapters.py\u001b[0m in \u001b[0;36msend\u001b[0;34m(self, request, stream, timeout, verify, cert, proxies)\u001b[0m\n\u001b[1;32m    437\u001b[0m         \u001b[0;32mtry\u001b[0m\u001b[0;34m:\u001b[0m\u001b[0;34m\u001b[0m\u001b[0;34m\u001b[0m\u001b[0m\n\u001b[1;32m    438\u001b[0m             \u001b[0;32mif\u001b[0m \u001b[0;32mnot\u001b[0m \u001b[0mchunked\u001b[0m\u001b[0;34m:\u001b[0m\u001b[0;34m\u001b[0m\u001b[0;34m\u001b[0m\u001b[0m\n\u001b[0;32m--> 439\u001b[0;31m                 resp = conn.urlopen(\n\u001b[0m\u001b[1;32m    440\u001b[0m                     \u001b[0mmethod\u001b[0m\u001b[0;34m=\u001b[0m\u001b[0mrequest\u001b[0m\u001b[0;34m.\u001b[0m\u001b[0mmethod\u001b[0m\u001b[0;34m,\u001b[0m\u001b[0;34m\u001b[0m\u001b[0;34m\u001b[0m\u001b[0m\n\u001b[1;32m    441\u001b[0m                     \u001b[0murl\u001b[0m\u001b[0;34m=\u001b[0m\u001b[0murl\u001b[0m\u001b[0;34m,\u001b[0m\u001b[0;34m\u001b[0m\u001b[0;34m\u001b[0m\u001b[0m\n",
      "\u001b[0;32m/usr/local/lib/python3.9/site-packages/urllib3/connectionpool.py\u001b[0m in \u001b[0;36murlopen\u001b[0;34m(self, method, url, body, headers, retries, redirect, assert_same_host, timeout, pool_timeout, release_conn, chunked, body_pos, **response_kw)\u001b[0m\n\u001b[1;32m    697\u001b[0m \u001b[0;34m\u001b[0m\u001b[0m\n\u001b[1;32m    698\u001b[0m             \u001b[0;31m# Make the request on the httplib connection object.\u001b[0m\u001b[0;34m\u001b[0m\u001b[0;34m\u001b[0m\u001b[0;34m\u001b[0m\u001b[0m\n\u001b[0;32m--> 699\u001b[0;31m             httplib_response = self._make_request(\n\u001b[0m\u001b[1;32m    700\u001b[0m                 \u001b[0mconn\u001b[0m\u001b[0;34m,\u001b[0m\u001b[0;34m\u001b[0m\u001b[0;34m\u001b[0m\u001b[0m\n\u001b[1;32m    701\u001b[0m                 \u001b[0mmethod\u001b[0m\u001b[0;34m,\u001b[0m\u001b[0;34m\u001b[0m\u001b[0;34m\u001b[0m\u001b[0m\n",
      "\u001b[0;32m/usr/local/lib/python3.9/site-packages/urllib3/connectionpool.py\u001b[0m in \u001b[0;36m_make_request\u001b[0;34m(self, conn, method, url, timeout, chunked, **httplib_request_kw)\u001b[0m\n\u001b[1;32m    443\u001b[0m                     \u001b[0;31m# Python 3 (including for exceptions like SystemExit).\u001b[0m\u001b[0;34m\u001b[0m\u001b[0;34m\u001b[0m\u001b[0;34m\u001b[0m\u001b[0m\n\u001b[1;32m    444\u001b[0m                     \u001b[0;31m# Otherwise it looks like a bug in the code.\u001b[0m\u001b[0;34m\u001b[0m\u001b[0;34m\u001b[0m\u001b[0;34m\u001b[0m\u001b[0m\n\u001b[0;32m--> 445\u001b[0;31m                     \u001b[0msix\u001b[0m\u001b[0;34m.\u001b[0m\u001b[0mraise_from\u001b[0m\u001b[0;34m(\u001b[0m\u001b[0me\u001b[0m\u001b[0;34m,\u001b[0m \u001b[0;32mNone\u001b[0m\u001b[0;34m)\u001b[0m\u001b[0;34m\u001b[0m\u001b[0;34m\u001b[0m\u001b[0m\n\u001b[0m\u001b[1;32m    446\u001b[0m         \u001b[0;32mexcept\u001b[0m \u001b[0;34m(\u001b[0m\u001b[0mSocketTimeout\u001b[0m\u001b[0;34m,\u001b[0m \u001b[0mBaseSSLError\u001b[0m\u001b[0;34m,\u001b[0m \u001b[0mSocketError\u001b[0m\u001b[0;34m)\u001b[0m \u001b[0;32mas\u001b[0m \u001b[0me\u001b[0m\u001b[0;34m:\u001b[0m\u001b[0;34m\u001b[0m\u001b[0;34m\u001b[0m\u001b[0m\n\u001b[1;32m    447\u001b[0m             \u001b[0mself\u001b[0m\u001b[0;34m.\u001b[0m\u001b[0m_raise_timeout\u001b[0m\u001b[0;34m(\u001b[0m\u001b[0merr\u001b[0m\u001b[0;34m=\u001b[0m\u001b[0me\u001b[0m\u001b[0;34m,\u001b[0m \u001b[0murl\u001b[0m\u001b[0;34m=\u001b[0m\u001b[0murl\u001b[0m\u001b[0;34m,\u001b[0m \u001b[0mtimeout_value\u001b[0m\u001b[0;34m=\u001b[0m\u001b[0mread_timeout\u001b[0m\u001b[0;34m)\u001b[0m\u001b[0;34m\u001b[0m\u001b[0;34m\u001b[0m\u001b[0m\n",
      "\u001b[0;32m/usr/local/lib/python3.9/site-packages/urllib3/packages/six.py\u001b[0m in \u001b[0;36mraise_from\u001b[0;34m(value, from_value)\u001b[0m\n",
      "\u001b[0;32m/usr/local/lib/python3.9/site-packages/urllib3/connectionpool.py\u001b[0m in \u001b[0;36m_make_request\u001b[0;34m(self, conn, method, url, timeout, chunked, **httplib_request_kw)\u001b[0m\n\u001b[1;32m    438\u001b[0m                 \u001b[0;31m# Python 3\u001b[0m\u001b[0;34m\u001b[0m\u001b[0;34m\u001b[0m\u001b[0;34m\u001b[0m\u001b[0m\n\u001b[1;32m    439\u001b[0m                 \u001b[0;32mtry\u001b[0m\u001b[0;34m:\u001b[0m\u001b[0;34m\u001b[0m\u001b[0;34m\u001b[0m\u001b[0m\n\u001b[0;32m--> 440\u001b[0;31m                     \u001b[0mhttplib_response\u001b[0m \u001b[0;34m=\u001b[0m \u001b[0mconn\u001b[0m\u001b[0;34m.\u001b[0m\u001b[0mgetresponse\u001b[0m\u001b[0;34m(\u001b[0m\u001b[0;34m)\u001b[0m\u001b[0;34m\u001b[0m\u001b[0;34m\u001b[0m\u001b[0m\n\u001b[0m\u001b[1;32m    441\u001b[0m                 \u001b[0;32mexcept\u001b[0m \u001b[0mBaseException\u001b[0m \u001b[0;32mas\u001b[0m \u001b[0me\u001b[0m\u001b[0;34m:\u001b[0m\u001b[0;34m\u001b[0m\u001b[0;34m\u001b[0m\u001b[0m\n\u001b[1;32m    442\u001b[0m                     \u001b[0;31m# Remove the TypeError from the exception chain in\u001b[0m\u001b[0;34m\u001b[0m\u001b[0;34m\u001b[0m\u001b[0;34m\u001b[0m\u001b[0m\n",
      "\u001b[0;32m/usr/local/Cellar/python@3.9/3.9.5/Frameworks/Python.framework/Versions/3.9/lib/python3.9/http/client.py\u001b[0m in \u001b[0;36mgetresponse\u001b[0;34m(self)\u001b[0m\n\u001b[1;32m   1343\u001b[0m         \u001b[0;32mtry\u001b[0m\u001b[0;34m:\u001b[0m\u001b[0;34m\u001b[0m\u001b[0;34m\u001b[0m\u001b[0m\n\u001b[1;32m   1344\u001b[0m             \u001b[0;32mtry\u001b[0m\u001b[0;34m:\u001b[0m\u001b[0;34m\u001b[0m\u001b[0;34m\u001b[0m\u001b[0m\n\u001b[0;32m-> 1345\u001b[0;31m                 \u001b[0mresponse\u001b[0m\u001b[0;34m.\u001b[0m\u001b[0mbegin\u001b[0m\u001b[0;34m(\u001b[0m\u001b[0;34m)\u001b[0m\u001b[0;34m\u001b[0m\u001b[0;34m\u001b[0m\u001b[0m\n\u001b[0m\u001b[1;32m   1346\u001b[0m             \u001b[0;32mexcept\u001b[0m \u001b[0mConnectionError\u001b[0m\u001b[0;34m:\u001b[0m\u001b[0;34m\u001b[0m\u001b[0;34m\u001b[0m\u001b[0m\n\u001b[1;32m   1347\u001b[0m                 \u001b[0mself\u001b[0m\u001b[0;34m.\u001b[0m\u001b[0mclose\u001b[0m\u001b[0;34m(\u001b[0m\u001b[0;34m)\u001b[0m\u001b[0;34m\u001b[0m\u001b[0;34m\u001b[0m\u001b[0m\n",
      "\u001b[0;32m/usr/local/Cellar/python@3.9/3.9.5/Frameworks/Python.framework/Versions/3.9/lib/python3.9/http/client.py\u001b[0m in \u001b[0;36mbegin\u001b[0;34m(self)\u001b[0m\n\u001b[1;32m    305\u001b[0m         \u001b[0;31m# read until we get a non-100 response\u001b[0m\u001b[0;34m\u001b[0m\u001b[0;34m\u001b[0m\u001b[0;34m\u001b[0m\u001b[0m\n\u001b[1;32m    306\u001b[0m         \u001b[0;32mwhile\u001b[0m \u001b[0;32mTrue\u001b[0m\u001b[0;34m:\u001b[0m\u001b[0;34m\u001b[0m\u001b[0;34m\u001b[0m\u001b[0m\n\u001b[0;32m--> 307\u001b[0;31m             \u001b[0mversion\u001b[0m\u001b[0;34m,\u001b[0m \u001b[0mstatus\u001b[0m\u001b[0;34m,\u001b[0m \u001b[0mreason\u001b[0m \u001b[0;34m=\u001b[0m \u001b[0mself\u001b[0m\u001b[0;34m.\u001b[0m\u001b[0m_read_status\u001b[0m\u001b[0;34m(\u001b[0m\u001b[0;34m)\u001b[0m\u001b[0;34m\u001b[0m\u001b[0;34m\u001b[0m\u001b[0m\n\u001b[0m\u001b[1;32m    308\u001b[0m             \u001b[0;32mif\u001b[0m \u001b[0mstatus\u001b[0m \u001b[0;34m!=\u001b[0m \u001b[0mCONTINUE\u001b[0m\u001b[0;34m:\u001b[0m\u001b[0;34m\u001b[0m\u001b[0;34m\u001b[0m\u001b[0m\n\u001b[1;32m    309\u001b[0m                 \u001b[0;32mbreak\u001b[0m\u001b[0;34m\u001b[0m\u001b[0;34m\u001b[0m\u001b[0m\n",
      "\u001b[0;32m/usr/local/Cellar/python@3.9/3.9.5/Frameworks/Python.framework/Versions/3.9/lib/python3.9/http/client.py\u001b[0m in \u001b[0;36m_read_status\u001b[0;34m(self)\u001b[0m\n\u001b[1;32m    266\u001b[0m \u001b[0;34m\u001b[0m\u001b[0m\n\u001b[1;32m    267\u001b[0m     \u001b[0;32mdef\u001b[0m \u001b[0m_read_status\u001b[0m\u001b[0;34m(\u001b[0m\u001b[0mself\u001b[0m\u001b[0;34m)\u001b[0m\u001b[0;34m:\u001b[0m\u001b[0;34m\u001b[0m\u001b[0;34m\u001b[0m\u001b[0m\n\u001b[0;32m--> 268\u001b[0;31m         \u001b[0mline\u001b[0m \u001b[0;34m=\u001b[0m \u001b[0mstr\u001b[0m\u001b[0;34m(\u001b[0m\u001b[0mself\u001b[0m\u001b[0;34m.\u001b[0m\u001b[0mfp\u001b[0m\u001b[0;34m.\u001b[0m\u001b[0mreadline\u001b[0m\u001b[0;34m(\u001b[0m\u001b[0m_MAXLINE\u001b[0m \u001b[0;34m+\u001b[0m \u001b[0;36m1\u001b[0m\u001b[0;34m)\u001b[0m\u001b[0;34m,\u001b[0m \u001b[0;34m\"iso-8859-1\"\u001b[0m\u001b[0;34m)\u001b[0m\u001b[0;34m\u001b[0m\u001b[0;34m\u001b[0m\u001b[0m\n\u001b[0m\u001b[1;32m    269\u001b[0m         \u001b[0;32mif\u001b[0m \u001b[0mlen\u001b[0m\u001b[0;34m(\u001b[0m\u001b[0mline\u001b[0m\u001b[0;34m)\u001b[0m \u001b[0;34m>\u001b[0m \u001b[0m_MAXLINE\u001b[0m\u001b[0;34m:\u001b[0m\u001b[0;34m\u001b[0m\u001b[0;34m\u001b[0m\u001b[0m\n\u001b[1;32m    270\u001b[0m             \u001b[0;32mraise\u001b[0m \u001b[0mLineTooLong\u001b[0m\u001b[0;34m(\u001b[0m\u001b[0;34m\"status line\"\u001b[0m\u001b[0;34m)\u001b[0m\u001b[0;34m\u001b[0m\u001b[0;34m\u001b[0m\u001b[0m\n",
      "\u001b[0;32m/usr/local/Cellar/python@3.9/3.9.5/Frameworks/Python.framework/Versions/3.9/lib/python3.9/socket.py\u001b[0m in \u001b[0;36mreadinto\u001b[0;34m(self, b)\u001b[0m\n\u001b[1;32m    702\u001b[0m         \u001b[0;32mwhile\u001b[0m \u001b[0;32mTrue\u001b[0m\u001b[0;34m:\u001b[0m\u001b[0;34m\u001b[0m\u001b[0;34m\u001b[0m\u001b[0m\n\u001b[1;32m    703\u001b[0m             \u001b[0;32mtry\u001b[0m\u001b[0;34m:\u001b[0m\u001b[0;34m\u001b[0m\u001b[0;34m\u001b[0m\u001b[0m\n\u001b[0;32m--> 704\u001b[0;31m                 \u001b[0;32mreturn\u001b[0m \u001b[0mself\u001b[0m\u001b[0;34m.\u001b[0m\u001b[0m_sock\u001b[0m\u001b[0;34m.\u001b[0m\u001b[0mrecv_into\u001b[0m\u001b[0;34m(\u001b[0m\u001b[0mb\u001b[0m\u001b[0;34m)\u001b[0m\u001b[0;34m\u001b[0m\u001b[0;34m\u001b[0m\u001b[0m\n\u001b[0m\u001b[1;32m    705\u001b[0m             \u001b[0;32mexcept\u001b[0m \u001b[0mtimeout\u001b[0m\u001b[0;34m:\u001b[0m\u001b[0;34m\u001b[0m\u001b[0;34m\u001b[0m\u001b[0m\n\u001b[1;32m    706\u001b[0m                 \u001b[0mself\u001b[0m\u001b[0;34m.\u001b[0m\u001b[0m_timeout_occurred\u001b[0m \u001b[0;34m=\u001b[0m \u001b[0;32mTrue\u001b[0m\u001b[0;34m\u001b[0m\u001b[0;34m\u001b[0m\u001b[0m\n",
      "\u001b[0;32m/usr/local/Cellar/python@3.9/3.9.5/Frameworks/Python.framework/Versions/3.9/lib/python3.9/ssl.py\u001b[0m in \u001b[0;36mrecv_into\u001b[0;34m(self, buffer, nbytes, flags)\u001b[0m\n\u001b[1;32m   1239\u001b[0m                   \u001b[0;34m\"non-zero flags not allowed in calls to recv_into() on %s\"\u001b[0m \u001b[0;34m%\u001b[0m\u001b[0;34m\u001b[0m\u001b[0;34m\u001b[0m\u001b[0m\n\u001b[1;32m   1240\u001b[0m                   self.__class__)\n\u001b[0;32m-> 1241\u001b[0;31m             \u001b[0;32mreturn\u001b[0m \u001b[0mself\u001b[0m\u001b[0;34m.\u001b[0m\u001b[0mread\u001b[0m\u001b[0;34m(\u001b[0m\u001b[0mnbytes\u001b[0m\u001b[0;34m,\u001b[0m \u001b[0mbuffer\u001b[0m\u001b[0;34m)\u001b[0m\u001b[0;34m\u001b[0m\u001b[0;34m\u001b[0m\u001b[0m\n\u001b[0m\u001b[1;32m   1242\u001b[0m         \u001b[0;32melse\u001b[0m\u001b[0;34m:\u001b[0m\u001b[0;34m\u001b[0m\u001b[0;34m\u001b[0m\u001b[0m\n\u001b[1;32m   1243\u001b[0m             \u001b[0;32mreturn\u001b[0m \u001b[0msuper\u001b[0m\u001b[0;34m(\u001b[0m\u001b[0;34m)\u001b[0m\u001b[0;34m.\u001b[0m\u001b[0mrecv_into\u001b[0m\u001b[0;34m(\u001b[0m\u001b[0mbuffer\u001b[0m\u001b[0;34m,\u001b[0m \u001b[0mnbytes\u001b[0m\u001b[0;34m,\u001b[0m \u001b[0mflags\u001b[0m\u001b[0;34m)\u001b[0m\u001b[0;34m\u001b[0m\u001b[0;34m\u001b[0m\u001b[0m\n",
      "\u001b[0;32m/usr/local/Cellar/python@3.9/3.9.5/Frameworks/Python.framework/Versions/3.9/lib/python3.9/ssl.py\u001b[0m in \u001b[0;36mread\u001b[0;34m(self, len, buffer)\u001b[0m\n\u001b[1;32m   1097\u001b[0m         \u001b[0;32mtry\u001b[0m\u001b[0;34m:\u001b[0m\u001b[0;34m\u001b[0m\u001b[0;34m\u001b[0m\u001b[0m\n\u001b[1;32m   1098\u001b[0m             \u001b[0;32mif\u001b[0m \u001b[0mbuffer\u001b[0m \u001b[0;32mis\u001b[0m \u001b[0;32mnot\u001b[0m \u001b[0;32mNone\u001b[0m\u001b[0;34m:\u001b[0m\u001b[0;34m\u001b[0m\u001b[0;34m\u001b[0m\u001b[0m\n\u001b[0;32m-> 1099\u001b[0;31m                 \u001b[0;32mreturn\u001b[0m \u001b[0mself\u001b[0m\u001b[0;34m.\u001b[0m\u001b[0m_sslobj\u001b[0m\u001b[0;34m.\u001b[0m\u001b[0mread\u001b[0m\u001b[0;34m(\u001b[0m\u001b[0mlen\u001b[0m\u001b[0;34m,\u001b[0m \u001b[0mbuffer\u001b[0m\u001b[0;34m)\u001b[0m\u001b[0;34m\u001b[0m\u001b[0;34m\u001b[0m\u001b[0m\n\u001b[0m\u001b[1;32m   1100\u001b[0m             \u001b[0;32melse\u001b[0m\u001b[0;34m:\u001b[0m\u001b[0;34m\u001b[0m\u001b[0;34m\u001b[0m\u001b[0m\n\u001b[1;32m   1101\u001b[0m                 \u001b[0;32mreturn\u001b[0m \u001b[0mself\u001b[0m\u001b[0;34m.\u001b[0m\u001b[0m_sslobj\u001b[0m\u001b[0;34m.\u001b[0m\u001b[0mread\u001b[0m\u001b[0;34m(\u001b[0m\u001b[0mlen\u001b[0m\u001b[0;34m)\u001b[0m\u001b[0;34m\u001b[0m\u001b[0;34m\u001b[0m\u001b[0m\n",
      "\u001b[0;31mKeyboardInterrupt\u001b[0m: "
     ]
    }
   ],
   "source": [
    "import numpy as np\n",
    "import matplotlib.pyplot as plt\n",
    "from quantum_rank_estimation import quantum_rank_estimation, quantum_Betti_estimation\n",
    "from classical_homology import complex_one_skeleton, one_skeleton_remap\n",
    "import json\n",
    "epsilon = 15\n",
    "eps = 0.005\n",
    "damp = 0\n",
    "deg = 5\n",
    "nv = 30\n",
    "pwr = range(deg)\n",
    "points = json.load(open('cmb_sample_points.json', \"r\"))\n",
    "edges_in, num_ver = one_skeleton_remap(complex_one_skeleton(points[0:7], epsilon))\n",
    "dimHk =  [ 3, 0, 0, 0, 0, 0, 0]\n",
    "Betti = quantum_Betti_estimation(edges_in, num_ver, dimHk, pwr, nv, eps, damp, [0.001,0.01], expt_name = \"CMB_8_nv-\", save = True)\n",
    "Betti"
   ]
  },
  {
   "cell_type": "code",
   "execution_count": null,
   "metadata": {},
   "outputs": [],
   "source": [
    "from classical_homology import classical_betti_from_exact_kernel_of_boundary, vitoris_rips_complex_from_one_skeleton, simplices_to_count_vector\n",
    "from classical_homology import complex_one_skeleton, one_skeleton_remap\n",
    "import json\n",
    "points = json.load(open('cmb_sample_points.json', \"r\"))\n",
    "epsilon = 15\n",
    "edges_in, num_ver = one_skeleton_remap(complex_one_skeleton(points[0:7], epsilon))\n",
    "vit_comp = vitoris_rips_complex_from_one_skeleton(num_ver, edges_in)\n",
    "vit_vec = simplices_to_count_vector(vit_comp)\n",
    "true_betti = classical_betti_from_exact_kernel_of_boundary(vit_vec)\n",
    "true_betti"
   ]
  },
  {
   "cell_type": "code",
   "execution_count": null,
   "metadata": {},
   "outputs": [],
   "source": [
    "#Betti =[[4.08669333, 4.08662073, 4.08645737, 4.08640292, 4.08665703],\n",
    " #      [9.19424321, 9.19522336, 9.19567259, 9.19473328, 9.19534588],\n",
    "#       [6.13028428, 6.13001277, 6.13020336, 6.1299311 , 6.1299311 ]]\n",
    "Err = Betti[0:1,:] - np.tile(1.5,[2,5])\n",
    "edge_error = np.sort(np.mean(np.abs(Err),0))\n",
    "edge_error"
   ]
  },
  {
   "cell_type": "code",
   "execution_count": null,
   "metadata": {},
   "outputs": [],
   "source": [
    "Betti"
   ]
  },
  {
   "cell_type": "code",
   "execution_count": null,
   "metadata": {},
   "outputs": [],
   "source": []
  },
  {
   "cell_type": "code",
   "execution_count": null,
   "metadata": {},
   "outputs": [],
   "source": [
    "import numpy as np\n",
    "import json\n",
    "from quantum_rank_estimation import Chebyshev_step, compute_Chebyshev_moments\n",
    "eps = 0.005\n",
    "damp = 0\n",
    "deg = 5\n",
    "nv = 30\n",
    "num_ver = 7\n",
    "dimHk =  [ 3, 0, 0, 0, 0, 0, 0]\n",
    "\n",
    "rank = np.zeros([nv,num_ver])\n",
    "mu = Chebyshev_step(deg, eps, damp)\n",
    "temp = np.loadtxt('resultsCMB_8_nv-.txt', dtype=float)\n",
    "exp_tensor = temp.reshape(temp.shape[0], temp.shape[1] // num_ver, num_ver)\n",
    "for l in range(nv):\n",
    "    for k in range(num_ver):\n",
    "        if np.sum(exp_tensor[l,:,k]) ==0:\n",
    "            rank[l,k] = 0\n",
    "            continue\n",
    "        exp_value = np.append([1], exp_tensor[l,:,k])\n",
    "        cheb_mom = compute_Chebyshev_moments(exp_value)\n",
    "        rank[l,k] = dimHk[k]*np.dot(cheb_mom, mu)\n",
    "            \n",
    "Betti = (dimHk -  (np.mean(rank,0)))\n",
    "Betti"
   ]
  },
  {
   "cell_type": "code",
   "execution_count": null,
   "metadata": {},
   "outputs": [],
   "source": [
    "from qiskit.quantum_info import hellinger_distance as compare_counts_hellinger\n",
    "import glob\n",
    "import numpy as np\n",
    "from quantum_homology import merge_counts, calc_circuit_depths\n",
    "\n",
    "names = [\"edge\",\"square\",\"cube\"]\n",
    "dist = np.zeros([3,5])\n",
    "for i in range(5):\n",
    "    no_noise_data = \"edge-no-noisedegree0sample0.json\"\n",
    "    noisy_data = \"edge-noise-\"+str(i)+\"degree0sample0.json\"\n",
    "    raw_data_globs = [no_noise_data, noisy_data]\n",
    "    dist[0,i] = compare_counts_hellinger(merge_counts(glob.glob(raw_data_globs[0])),merge_counts(glob.glob(raw_data_globs[1])))\n",
    "    no_noise_data = \"square-no-noisedegree0sample0.json\"\n",
    "    noisy_data = \"square-noise-\"+str(i)+\"degree0sample0.json\"\n",
    "    raw_data_globs = [no_noise_data, noisy_data]\n",
    "    dist[1,i] = compare_counts_hellinger(merge_counts(glob.glob(raw_data_globs[0])),merge_counts(glob.glob(raw_data_globs[1])))\n",
    "    no_noise_data = \"cube-no-noisedegree0sample0.json\"\n",
    "    noisy_data = \"cube-noise-\"+str(i)+\"degree0sample0.json\"\n",
    "    raw_data_globs = [no_noise_data, noisy_data]\n",
    "    dist[2,i] = compare_counts_hellinger(merge_counts(glob.glob(raw_data_globs[0])),merge_counts(glob.glob(raw_data_globs[1])))\n",
    "    "
   ]
  },
  {
   "cell_type": "code",
   "execution_count": null,
   "metadata": {},
   "outputs": [],
   "source": [
    "id = np.nonzero(rank[:,0])\n",
    "3.3-rank[id,0]"
   ]
  },
  {
   "cell_type": "code",
   "execution_count": 2,
   "metadata": {},
   "outputs": [
    {
     "data": {
      "text/plain": [
       "1e-05"
      ]
     },
     "execution_count": 2,
     "metadata": {},
     "output_type": "execute_result"
    }
   ],
   "source": [
    "0.001*(10**-2)"
   ]
  },
  {
   "cell_type": "code",
   "execution_count": null,
   "metadata": {},
   "outputs": [],
   "source": []
  }
 ],
 "metadata": {
  "kernelspec": {
   "display_name": "Python 3",
   "language": "python",
   "name": "python3"
  },
  "language_info": {
   "codemirror_mode": {
    "name": "ipython",
    "version": 3
   },
   "file_extension": ".py",
   "mimetype": "text/x-python",
   "name": "python",
   "nbconvert_exporter": "python",
   "pygments_lexer": "ipython3",
   "version": "3.9.5"
  }
 },
 "nbformat": 4,
 "nbformat_minor": 4
}
